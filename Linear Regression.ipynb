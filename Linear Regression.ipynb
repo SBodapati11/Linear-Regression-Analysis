{
 "cells": [
  {
   "cell_type": "code",
   "execution_count": 32,
   "id": "3063fd44",
   "metadata": {},
   "outputs": [],
   "source": [
    "# Imports\n",
    "import pandas as pd\n",
    "import numpy as np\n",
    "import matplotlib.pyplot as plt"
   ]
  },
  {
   "cell_type": "code",
   "execution_count": 2,
   "id": "e64de44e",
   "metadata": {},
   "outputs": [],
   "source": [
    "# CHANGE PATH/URL TO SOME PUBLIC DOMAIN\n",
    "# Load in dataset to pandas DataFrame\n",
    "dataset = pd.read_csv(\"dataset.csv\")"
   ]
  },
  {
   "cell_type": "code",
   "execution_count": 10,
   "id": "54452bf3",
   "metadata": {},
   "outputs": [
    {
     "name": "stdout",
     "output_type": "stream",
     "text": [
      "SystemCodeNumber    0\n",
      "Capacity            0\n",
      "Occupancy           0\n",
      "LastUpdated         0\n",
      "dtype: int64\n"
     ]
    }
   ],
   "source": [
    "# Check for missing values\n",
    "dataset.isna().sum()"
   ]
  },
  {
   "cell_type": "code",
   "execution_count": 11,
   "id": "f3c9351a",
   "metadata": {},
   "outputs": [
    {
     "name": "stdout",
     "output_type": "stream",
     "text": [
      "SystemCodeNumber    0\n",
      "Capacity            0\n",
      "Occupancy           0\n",
      "LastUpdated         0\n",
      "dtype: int64\n"
     ]
    }
   ],
   "source": [
    "# Check for null values\n",
    "dataset.isnull().sum()"
   ]
  },
  {
   "cell_type": "code",
   "execution_count": 22,
   "id": "5a694240",
   "metadata": {},
   "outputs": [
    {
     "data": {
      "text/html": [
       "<div>\n",
       "<style scoped>\n",
       "    .dataframe tbody tr th:only-of-type {\n",
       "        vertical-align: middle;\n",
       "    }\n",
       "\n",
       "    .dataframe tbody tr th {\n",
       "        vertical-align: top;\n",
       "    }\n",
       "\n",
       "    .dataframe thead th {\n",
       "        text-align: right;\n",
       "    }\n",
       "</style>\n",
       "<table border=\"1\" class=\"dataframe\">\n",
       "  <thead>\n",
       "    <tr style=\"text-align: right;\">\n",
       "      <th></th>\n",
       "      <th>Capacity</th>\n",
       "      <th>Occupancy</th>\n",
       "    </tr>\n",
       "  </thead>\n",
       "  <tbody>\n",
       "    <tr>\n",
       "      <th>count</th>\n",
       "      <td>35717.000000</td>\n",
       "      <td>35717.000000</td>\n",
       "    </tr>\n",
       "    <tr>\n",
       "      <th>mean</th>\n",
       "      <td>1397.550130</td>\n",
       "      <td>642.228911</td>\n",
       "    </tr>\n",
       "    <tr>\n",
       "      <th>std</th>\n",
       "      <td>1179.326833</td>\n",
       "      <td>656.955535</td>\n",
       "    </tr>\n",
       "    <tr>\n",
       "      <th>min</th>\n",
       "      <td>220.000000</td>\n",
       "      <td>-8.000000</td>\n",
       "    </tr>\n",
       "    <tr>\n",
       "      <th>25%</th>\n",
       "      <td>500.000000</td>\n",
       "      <td>210.000000</td>\n",
       "    </tr>\n",
       "    <tr>\n",
       "      <th>50%</th>\n",
       "      <td>849.000000</td>\n",
       "      <td>446.000000</td>\n",
       "    </tr>\n",
       "    <tr>\n",
       "      <th>75%</th>\n",
       "      <td>2009.000000</td>\n",
       "      <td>798.000000</td>\n",
       "    </tr>\n",
       "    <tr>\n",
       "      <th>max</th>\n",
       "      <td>4675.000000</td>\n",
       "      <td>4327.000000</td>\n",
       "    </tr>\n",
       "  </tbody>\n",
       "</table>\n",
       "</div>"
      ],
      "text/plain": [
       "           Capacity     Occupancy\n",
       "count  35717.000000  35717.000000\n",
       "mean    1397.550130    642.228911\n",
       "std     1179.326833    656.955535\n",
       "min      220.000000     -8.000000\n",
       "25%      500.000000    210.000000\n",
       "50%      849.000000    446.000000\n",
       "75%     2009.000000    798.000000\n",
       "max     4675.000000   4327.000000"
      ]
     },
     "execution_count": 22,
     "metadata": {},
     "output_type": "execute_result"
    }
   ],
   "source": [
    "# Find the statistics of the dataset\n",
    "dataset.describe()"
   ]
  },
  {
   "cell_type": "code",
   "execution_count": 27,
   "id": "4ef2ca97",
   "metadata": {},
   "outputs": [
    {
     "data": {
      "text/html": [
       "<div>\n",
       "<style scoped>\n",
       "    .dataframe tbody tr th:only-of-type {\n",
       "        vertical-align: middle;\n",
       "    }\n",
       "\n",
       "    .dataframe tbody tr th {\n",
       "        vertical-align: top;\n",
       "    }\n",
       "\n",
       "    .dataframe thead th {\n",
       "        text-align: right;\n",
       "    }\n",
       "</style>\n",
       "<table border=\"1\" class=\"dataframe\">\n",
       "  <thead>\n",
       "    <tr style=\"text-align: right;\">\n",
       "      <th></th>\n",
       "      <th>SystemCodeNumber</th>\n",
       "      <th>Capacity</th>\n",
       "      <th>Occupancy</th>\n",
       "      <th>LastUpdated</th>\n",
       "    </tr>\n",
       "  </thead>\n",
       "  <tbody>\n",
       "    <tr>\n",
       "      <th>23889</th>\n",
       "      <td>NIA North</td>\n",
       "      <td>480</td>\n",
       "      <td>-3</td>\n",
       "      <td>2016-10-16 15:57:16</td>\n",
       "    </tr>\n",
       "    <tr>\n",
       "      <th>23890</th>\n",
       "      <td>NIA North</td>\n",
       "      <td>480</td>\n",
       "      <td>-3</td>\n",
       "      <td>2016-10-16 16:31:17</td>\n",
       "    </tr>\n",
       "    <tr>\n",
       "      <th>23906</th>\n",
       "      <td>NIA North</td>\n",
       "      <td>480</td>\n",
       "      <td>-1</td>\n",
       "      <td>2016-10-18 15:27:59</td>\n",
       "    </tr>\n",
       "    <tr>\n",
       "      <th>23919</th>\n",
       "      <td>NIA North</td>\n",
       "      <td>480</td>\n",
       "      <td>-8</td>\n",
       "      <td>2016-10-28 13:02:43</td>\n",
       "    </tr>\n",
       "    <tr>\n",
       "      <th>23924</th>\n",
       "      <td>NIA North</td>\n",
       "      <td>480</td>\n",
       "      <td>-1</td>\n",
       "      <td>2016-10-28 15:29:41</td>\n",
       "    </tr>\n",
       "    <tr>\n",
       "      <th>23925</th>\n",
       "      <td>NIA North</td>\n",
       "      <td>480</td>\n",
       "      <td>-4</td>\n",
       "      <td>2016-10-28 16:02:40</td>\n",
       "    </tr>\n",
       "    <tr>\n",
       "      <th>23926</th>\n",
       "      <td>NIA North</td>\n",
       "      <td>480</td>\n",
       "      <td>-1</td>\n",
       "      <td>2016-10-28 16:29:42</td>\n",
       "    </tr>\n",
       "    <tr>\n",
       "      <th>23937</th>\n",
       "      <td>NIA North</td>\n",
       "      <td>480</td>\n",
       "      <td>-2</td>\n",
       "      <td>2016-10-29 12:59:51</td>\n",
       "    </tr>\n",
       "    <tr>\n",
       "      <th>23944</th>\n",
       "      <td>NIA North</td>\n",
       "      <td>480</td>\n",
       "      <td>-1</td>\n",
       "      <td>2016-10-29 16:26:53</td>\n",
       "    </tr>\n",
       "    <tr>\n",
       "      <th>23997</th>\n",
       "      <td>NIA North</td>\n",
       "      <td>480</td>\n",
       "      <td>-3</td>\n",
       "      <td>2016-11-10 16:00:15</td>\n",
       "    </tr>\n",
       "    <tr>\n",
       "      <th>24032</th>\n",
       "      <td>NIA North</td>\n",
       "      <td>480</td>\n",
       "      <td>-1</td>\n",
       "      <td>2016-11-30 15:28:40</td>\n",
       "    </tr>\n",
       "    <tr>\n",
       "      <th>24033</th>\n",
       "      <td>NIA North</td>\n",
       "      <td>480</td>\n",
       "      <td>-2</td>\n",
       "      <td>2016-11-30 16:01:39</td>\n",
       "    </tr>\n",
       "  </tbody>\n",
       "</table>\n",
       "</div>"
      ],
      "text/plain": [
       "      SystemCodeNumber  Capacity  Occupancy          LastUpdated\n",
       "23889        NIA North       480         -3  2016-10-16 15:57:16\n",
       "23890        NIA North       480         -3  2016-10-16 16:31:17\n",
       "23906        NIA North       480         -1  2016-10-18 15:27:59\n",
       "23919        NIA North       480         -8  2016-10-28 13:02:43\n",
       "23924        NIA North       480         -1  2016-10-28 15:29:41\n",
       "23925        NIA North       480         -4  2016-10-28 16:02:40\n",
       "23926        NIA North       480         -1  2016-10-28 16:29:42\n",
       "23937        NIA North       480         -2  2016-10-29 12:59:51\n",
       "23944        NIA North       480         -1  2016-10-29 16:26:53\n",
       "23997        NIA North       480         -3  2016-11-10 16:00:15\n",
       "24032        NIA North       480         -1  2016-11-30 15:28:40\n",
       "24033        NIA North       480         -2  2016-11-30 16:01:39"
      ]
     },
     "execution_count": 27,
     "metadata": {},
     "output_type": "execute_result"
    }
   ],
   "source": [
    "# We see that the minimum value for Occupancy is -8, but this shouldn't be\n",
    "# possible as you cannot have -8 parking spaces filled\n",
    "\n",
    "# Find all the cases where the value of Occupancy is negative\n",
    "dataset[dataset['Occupancy'] < 0]"
   ]
  },
  {
   "cell_type": "code",
   "execution_count": 29,
   "id": "5c10e50e",
   "metadata": {},
   "outputs": [],
   "source": [
    "# Find the indices of the rows containing these negative values and drop them\n",
    "drop_indices = list(dataset[dataset['Occupancy'] < 0].index)\n",
    "dataset = dataset.drop(drop_indices)"
   ]
  },
  {
   "cell_type": "code",
   "execution_count": 30,
   "id": "348023ad",
   "metadata": {},
   "outputs": [
    {
     "data": {
      "text/html": [
       "<div>\n",
       "<style scoped>\n",
       "    .dataframe tbody tr th:only-of-type {\n",
       "        vertical-align: middle;\n",
       "    }\n",
       "\n",
       "    .dataframe tbody tr th {\n",
       "        vertical-align: top;\n",
       "    }\n",
       "\n",
       "    .dataframe thead th {\n",
       "        text-align: right;\n",
       "    }\n",
       "</style>\n",
       "<table border=\"1\" class=\"dataframe\">\n",
       "  <thead>\n",
       "    <tr style=\"text-align: right;\">\n",
       "      <th></th>\n",
       "      <th>SystemCodeNumber</th>\n",
       "      <th>Capacity</th>\n",
       "      <th>Occupancy</th>\n",
       "      <th>LastUpdated</th>\n",
       "    </tr>\n",
       "  </thead>\n",
       "  <tbody>\n",
       "    <tr>\n",
       "      <th>0</th>\n",
       "      <td>BHMBCCMKT01</td>\n",
       "      <td>577</td>\n",
       "      <td>61</td>\n",
       "      <td>2016-10-04 07:59:42</td>\n",
       "    </tr>\n",
       "    <tr>\n",
       "      <th>1</th>\n",
       "      <td>BHMBCCMKT01</td>\n",
       "      <td>577</td>\n",
       "      <td>64</td>\n",
       "      <td>2016-10-04 08:25:42</td>\n",
       "    </tr>\n",
       "    <tr>\n",
       "      <th>2</th>\n",
       "      <td>BHMBCCMKT01</td>\n",
       "      <td>577</td>\n",
       "      <td>80</td>\n",
       "      <td>2016-10-04 08:59:42</td>\n",
       "    </tr>\n",
       "    <tr>\n",
       "      <th>3</th>\n",
       "      <td>BHMBCCMKT01</td>\n",
       "      <td>577</td>\n",
       "      <td>107</td>\n",
       "      <td>2016-10-04 09:32:46</td>\n",
       "    </tr>\n",
       "    <tr>\n",
       "      <th>4</th>\n",
       "      <td>BHMBCCMKT01</td>\n",
       "      <td>577</td>\n",
       "      <td>150</td>\n",
       "      <td>2016-10-04 09:59:48</td>\n",
       "    </tr>\n",
       "  </tbody>\n",
       "</table>\n",
       "</div>"
      ],
      "text/plain": [
       "  SystemCodeNumber  Capacity  Occupancy          LastUpdated\n",
       "0      BHMBCCMKT01       577         61  2016-10-04 07:59:42\n",
       "1      BHMBCCMKT01       577         64  2016-10-04 08:25:42\n",
       "2      BHMBCCMKT01       577         80  2016-10-04 08:59:42\n",
       "3      BHMBCCMKT01       577        107  2016-10-04 09:32:46\n",
       "4      BHMBCCMKT01       577        150  2016-10-04 09:59:48"
      ]
     },
     "execution_count": 30,
     "metadata": {},
     "output_type": "execute_result"
    }
   ],
   "source": [
    "dataset.head()"
   ]
  },
  {
   "cell_type": "code",
   "execution_count": 31,
   "id": "87c43de0",
   "metadata": {},
   "outputs": [],
   "source": [
    "# In this case, the attributes are SystemCodeNumber (categorical) , Capacity (numerical),\n",
    "# Occupancy (numerical), and LastUpdated (numerical - Time)\n",
    "# SystemCodeNumber - code delineating a parking lot\n",
    "# Capacity - maximum occupancy allowed (max # of spaces)\n",
    "# Occupancy - number of spaces currently filled\n",
    "# LastUpdated - last day and time when the occupancy was noted"
   ]
  },
  {
   "cell_type": "code",
   "execution_count": 42,
   "id": "2cb7742e",
   "metadata": {},
   "outputs": [
    {
     "data": {
      "text/plain": [
       "<AxesSubplot:ylabel='Frequency'>"
      ]
     },
     "execution_count": 42,
     "metadata": {},
     "output_type": "execute_result"
    },
    {
     "data": {
      "image/png": "[encoded data removed]",
      "text/plain": [
       "<Figure size 432x288 with 1 Axes>"
      ]
     },
     "metadata": {
      "needs_background": "light"
     },
     "output_type": "display_data"
    }
   ],
   "source": [
    "# The Occupancy data is heavily skewed to the right\n",
    "# Occupancy will be the value that we are trying to predict\n",
    "dataset['Occupancy'].plot(kind='hist')"
   ]
  },
  {
   "cell_type": "code",
   "execution_count": null,
   "id": "c7baf39b",
   "metadata": {},
   "outputs": [],
   "source": [
    "# We want to use the time data as our attributes\n",
    "# "
   ]
  }
 ],
 "metadata": {
  "kernelspec": {
   "display_name": "Python 3",
   "language": "python",
   "name": "python3"
  },
  "language_info": {
   "codemirror_mode": {
    "name": "ipython",
    "version": 3
   },
   "file_extension": ".py",
   "mimetype": "text/x-python",
   "name": "python",
   "nbconvert_exporter": "python",
   "pygments_lexer": "ipython3",
   "version": "3.8.8"
  }
 },
 "nbformat": 4,
 "nbformat_minor": 5
}
